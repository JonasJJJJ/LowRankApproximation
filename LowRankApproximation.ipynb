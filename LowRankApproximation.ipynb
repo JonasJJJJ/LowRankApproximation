{
 "cells": [
  {
   "cell_type": "markdown",
   "metadata": {},
   "source": [
    "# Singular Value Decomposition\n",
    "A possibility to play around with the SVDs of images."
   ]
  },
  {
   "cell_type": "code",
   "execution_count": 1,
   "metadata": {},
   "outputs": [],
   "source": [
    "from ipywidgets import interact, interact_manual, fixed\n",
    "import ipywidgets as widgets\n",
    "import matplotlib.pyplot as plt\n",
    "import numpy as np\n",
    "from skimage import io\n",
    "\n",
    "def choose_image(url):\n",
    "    A = io.imread(url)\n",
    "    if(A.ndim == 3): #handle color images\n",
    "        X = np.mean(A, -1)\n",
    "    else:\n",
    "        X = A\n",
    "    m = X.shape[0]\n",
    "    n = X.shape[1]\n",
    "    U, S, VT = np.linalg.svd(X)\n",
    "    Sig = np.diag(S) # the singular values are given as 1D array by np.linalg.svd, so they need to be turned into a diagonal matrix\n",
    "    return A, X, m, n, U, S, VT, Sig\n",
    "\n",
    "def plot(data, k=1):\n",
    "    A, X, m, n, U, S, VT, Sig = data\n",
    "    print(str(round(100 * (m * k + k + k * n) / (m * n), 2)) + \"% of original file size.\")\n",
    "    fig, (ax1, ax2, ax3) = plt.subplots(1, 3, figsize=(15,4))\n",
    "    img = ax1.imshow(U[:, :k] @ Sig[:k,:k] @ VT[:k,:])\n",
    "    img.set_cmap('gray')\n",
    "    ax1.axis('off')\n",
    "    \n",
    "    ax2.plot(np.cumsum(S) / np.sum(S), label=r'$\\frac{\\sum_{i=1}^{k}\\sigma_i}{\\sum_{i=1}^{r}\\sigma_i}$')\n",
    "    ax2.legend()\n",
    "    ax2.set_xlabel('k')\n",
    "    ax2.plot(k, np.sum(Sig[:k, :k]) / np.sum(S), 'ro')\n",
    "    ax2.set_ylim([0, 1.1])\n",
    "    \n",
    "    ax3.plot(S, label=r'$\\sigma_k$')\n",
    "    ax3.legend()\n",
    "    ax3.plot(k-1, S[k-1], 'ro')\n",
    "    ax3.set_yscale('log')\n",
    "    ax3.set_xlabel('k')\n",
    "    plt.show()"
   ]
  },
  {
   "cell_type": "code",
   "execution_count": 2,
   "metadata": {},
   "outputs": [
    {
     "data": {
      "application/vnd.jupyter.widget-view+json": {
       "model_id": "14e060e0eec546f7bae60ae851d27846",
       "version_major": 2,
       "version_minor": 0
      },
      "text/plain": [
       "interactive(children=(BoundedIntText(value=1, description='Max. Sigma:', max=853, min=1), Output()), _dom_clas…"
      ]
     },
     "metadata": {},
     "output_type": "display_data"
    }
   ],
   "source": [
    "magistrale = choose_image('https://upload.wikimedia.org/wikipedia/commons/thumb/e/e6/MI-Geb%C3%A4ude_der_TU_M%C3%BCnchen_Magistrale2.JPG/1280px-MI-Geb%C3%A4ude_der_TU_M%C3%BCnchen_Magistrale2.JPG')\n",
    "_, X, _, _, _, _, _, _ = magistrale\n",
    "sigmabox = widgets.BoundedIntText(\n",
    "    min=1,\n",
    "    max=np.linalg.matrix_rank(X),\n",
    "    step=1,\n",
    "    description='Max. Sigma:'\n",
    ")\n",
    "\n",
    "interact(plot, data=fixed(magistrale), k=sigmabox);"
   ]
  },
  {
   "cell_type": "code",
   "execution_count": 3,
   "metadata": {},
   "outputs": [
    {
     "data": {
      "application/vnd.jupyter.widget-view+json": {
       "model_id": "6134f41d6575422ab8014d90d65671b1",
       "version_major": 2,
       "version_minor": 0
      },
      "text/plain": [
       "interactive(children=(BoundedIntText(value=1, description='Max. Sigma:', max=1, min=1), Output()), _dom_classe…"
      ]
     },
     "metadata": {},
     "output_type": "display_data"
    }
   ],
   "source": [
    "square = choose_image('https://raw.githubusercontent.com/JonasJJJJ/LowRankApproximation/master/square.png')\n",
    "_, X, _, _, _, _, _, _ = square\n",
    "sigmabox = widgets.BoundedIntText(\n",
    "    min=1,\n",
    "    max=np.linalg.matrix_rank(X),\n",
    "    step=1,\n",
    "    description='Max. Sigma:'\n",
    ")\n",
    "interact(plot, data=fixed(square), k=sigmabox);"
   ]
  },
  {
   "cell_type": "code",
   "execution_count": 4,
   "metadata": {},
   "outputs": [
    {
     "data": {
      "application/vnd.jupyter.widget-view+json": {
       "model_id": "0ac186264ea94c96bd37e37e0707e8a1",
       "version_major": 2,
       "version_minor": 0
      },
      "text/plain": [
       "interactive(children=(BoundedIntText(value=1, description='Max. Sigma:', max=197, min=1), Output()), _dom_clas…"
      ]
     },
     "metadata": {},
     "output_type": "display_data"
    }
   ],
   "source": [
    "square15 = choose_image('https://raw.githubusercontent.com/JonasJJJJ/LowRankApproximation/master/square15bw.png')\n",
    "_, X, _, _, _, _, _, _ = square15\n",
    "sigmabox = widgets.BoundedIntText(\n",
    "    min=1,\n",
    "    max=np.linalg.matrix_rank(X),\n",
    "    step=1,\n",
    "    description='Max. Sigma:'\n",
    ")\n",
    "interact(plot, data=fixed(square15), k=sigmabox);"
   ]
  },
  {
   "cell_type": "code",
   "execution_count": 5,
   "metadata": {},
   "outputs": [
    {
     "data": {
      "application/vnd.jupyter.widget-view+json": {
       "model_id": "3aa4e50636104c038cadad277e30313b",
       "version_major": 2,
       "version_minor": 0
      },
      "text/plain": [
       "interactive(children=(BoundedIntText(value=1, description='Max. Sigma:', max=292, min=1), Output()), _dom_clas…"
      ]
     },
     "metadata": {},
     "output_type": "display_data"
    }
   ],
   "source": [
    "square30 = choose_image('https://raw.githubusercontent.com/JonasJJJJ/LowRankApproximation/master/square30bw.png')\n",
    "_, X, _, _, _, _, _, _ = square30\n",
    "sigmabox = widgets.BoundedIntText(\n",
    "    min=1,\n",
    "    max=np.linalg.matrix_rank(X),\n",
    "    step=1,\n",
    "    description='Max. Sigma:'\n",
    ")\n",
    "interact(plot, data=fixed(square30), k=sigmabox);"
   ]
  },
  {
   "cell_type": "code",
   "execution_count": 6,
   "metadata": {},
   "outputs": [
    {
     "data": {
      "application/vnd.jupyter.widget-view+json": {
       "model_id": "db2e2ab03e0846cdb3fcfba3b6593a63",
       "version_major": 2,
       "version_minor": 0
      },
      "text/plain": [
       "interactive(children=(BoundedIntText(value=1, description='Max. Sigma:', max=202, min=1), Output()), _dom_clas…"
      ]
     },
     "metadata": {},
     "output_type": "display_data"
    }
   ],
   "source": [
    "square45 = choose_image('https://raw.githubusercontent.com/JonasJJJJ/LowRankApproximation/master/square45bw.png')\n",
    "_, X, _, _, _, _, _, _ = square45\n",
    "sigmabox = widgets.BoundedIntText(\n",
    "    min=1,\n",
    "    max=np.linalg.matrix_rank(X),\n",
    "    step=1,\n",
    "    description='Max. Sigma:'\n",
    ")\n",
    "interact(plot, data=fixed(square45), k=sigmabox);"
   ]
  },
  {
   "cell_type": "code",
   "execution_count": 7,
   "metadata": {},
   "outputs": [
    {
     "data": {
      "application/vnd.jupyter.widget-view+json": {
       "model_id": "52b45ed455b54e13baf70a3f6897ae53",
       "version_major": 2,
       "version_minor": 0
      },
      "text/plain": [
       "interactive(children=(BoundedIntText(value=1, description='Max. Sigma:', max=339, min=1), Output()), _dom_clas…"
      ]
     },
     "metadata": {},
     "output_type": "display_data"
    }
   ],
   "source": [
    "rotatedsquare = choose_image('https://raw.githubusercontent.com/JonasJJJJ/LowRankApproximation/master/rotatedsquare.png')\n",
    "_, X, _, _, _, _, _, _ = rotatedsquare\n",
    "sigmabox = widgets.BoundedIntText(\n",
    "    min=1,\n",
    "    max=np.linalg.matrix_rank(X),\n",
    "    step=1,\n",
    "    description='Max. Sigma:'\n",
    ")\n",
    "interact(plot, data=fixed(rotatedsquare), k=sigmabox);"
   ]
  },
  {
   "cell_type": "markdown",
   "metadata": {},
   "source": [
    "# Interpolative Decomposition\n",
    "Note how the first, 4th, 7th and 8th column of the right matrix form the identity matrix and how the left matrix consists of the 8th, the 4th, the 7th and the first column of A."
   ]
  },
  {
   "cell_type": "code",
   "execution_count": 8,
   "metadata": {},
   "outputs": [],
   "source": [
    "from ipywidgets import interact\n",
    "import matplotlib.pyplot as plt\n",
    "from matplotlib.image import imread\n",
    "import numpy as np\n",
    "\n",
    "def visualize_matrices(normalize_color=False, rows=1, **kwargs):\n",
    "    if normalize_color:\n",
    "        vmin = np.finfo(np.float32).max\n",
    "        vmax = np.finfo(np.float32).min\n",
    "        for name, A in kwargs.items():\n",
    "            m = np.amin(A)\n",
    "            if vmin > m:\n",
    "                vmin = m\n",
    "            m = np.amax(A)\n",
    "            if vmax < m:\n",
    "                vmax = m\n",
    "    \n",
    "    fig, axes = plt.subplots(rows, (len(kwargs)-1) // rows + 1)\n",
    "    i = 0\n",
    "    for name, A in kwargs.items():\n",
    "        axes[i].set_title(name)\n",
    "        if normalize_color:\n",
    "            im = axes[i].imshow(A, vmin=vmin, vmax=vmax)\n",
    "        else:\n",
    "            axes[i].imshow(A)\n",
    "        axes[i].yaxis.set_ticks([0, A.shape[0]-1] if A.shape[0] > 1 else [])\n",
    "        axes[i].xaxis.set_ticks([0, A.shape[1]-1] if A.shape[1] > 1 else [])\n",
    "        i += 1\n",
    "    if normalize_color:\n",
    "        fig.colorbar(im, ax=axes.ravel().tolist())\n",
    "    else:\n",
    "        fig.tight_layout()\n",
    "    plt.show()\n"
   ]
  },
  {
   "cell_type": "code",
   "execution_count": 9,
   "metadata": {},
   "outputs": [
    {
     "data": {
      "image/png": "[encoded data removed]",
      "text/plain": [
       "<Figure size 432x288 with 4 Axes>"
      ]
     },
     "metadata": {
      "needs_background": "light"
     },
     "output_type": "display_data"
    }
   ],
   "source": [
    "import scipy.linalg.interpolative as sli\n",
    "A = np.random.randint(-10, high=10, size=(4, 8)) * 1.0\n",
    "k = np.linalg.matrix_rank(A)\n",
    "idx, proj = sli.interp_decomp(A, 4)\n",
    "left = A[:,idx[:k]] # the first k indices in idx are the chosen columns of A\n",
    "right = np.hstack([np.eye(k), proj]) # the first k columns in idx should be multiplied with I_k\n",
    "right = right[:, np.argsort(idx)] # idx gives the order in which the columns need to be\n",
    "visualize_matrices(A=A, left=left, right=right, res=left @ right)"
   ]
  }
 ],
 "metadata": {
  "kernelspec": {
   "display_name": "Python 3",
   "language": "python",
   "name": "python3"
  },
  "language_info": {
   "codemirror_mode": {
    "name": "ipython",
    "version": 3
   },
   "file_extension": ".py",
   "mimetype": "text/x-python",
   "name": "python",
   "nbconvert_exporter": "python",
   "pygments_lexer": "ipython3",
   "version": "3.7.6"
  }
 },
 "nbformat": 4,
 "nbformat_minor": 4
}
